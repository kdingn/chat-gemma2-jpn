{
 "cells": [
  {
   "cell_type": "code",
   "execution_count": 1,
   "metadata": {},
   "outputs": [],
   "source": [
    "import requests\n",
    "import sys"
   ]
  },
  {
   "cell_type": "code",
   "execution_count": 2,
   "metadata": {},
   "outputs": [
    {
     "name": "stdout",
     "output_type": "stream",
     "text": [
      "第二次世界大戦に活躍した日本の戦闘機は以下の通りです。\n",
      "\n",
      "**初期期:**\n",
      "\n",
      "* **Mitsubishi A6M Zero:**  最も有名な戦闘機で、高い機動性と優れた射程を持つ一方で、防御能力が低く、敵の攻撃に弱かった。\n",
      "* **Mitsubishi A5M Claude:**  Zeroの改良版で、より強力なエンジンを搭載し、高い機動性と攻撃能力を備えていた。\n",
      "\n",
      "**中期期:**\n",
      "\n",
      "* **Mitsubishi A6M5改:**  Zeroの改良版で、より強力なエンジンを搭載し、高い機動性と攻撃能力を備えていた。\n",
      "* **Mitsubishi J7W:**  Zeroの改良版で、より強力なエンジンを搭載し、高い機動性と攻撃能力を備えていた。\n",
      "\n",
      "**後期期:**\n",
      "\n",
      "* **Mitsubishi J1N:**  Zeroの改良版で、より強力なエンジンを搭載し、高い機動性と攻撃能力を備えていた。\n",
      "* **Mitsubishi Ki-84:**  零戦の改良版で、より強力なエンジンを搭載し、高い機動性と攻撃能力を備えていた。\n",
      "\n",
      " \n",
      "\n",
      "\n",
      " \n",
      "\n",
      "\n"
     ]
    }
   ],
   "source": [
    "url = \"http://localhost:8080/api/chat\"\n",
    "# message = \"第二次世界大戦に活躍した日本の軍艦を列挙してください．\"\n",
    "# message = \"第二次世界大戦に活躍した日本の戦車を列挙してください．\"\n",
    "message = \"第二次世界大戦に活躍した日本の戦闘機を列挙してください．\"\n",
    "\n",
    "request_data = {\n",
    "    \"message\":  message\n",
    "}\n",
    "res = requests.post(url, json=request_data, stream=True)\n",
    "\n",
    "for chunk in res.iter_content(chunk_size=1, decode_unicode=True):\n",
    "    if chunk:\n",
    "        sys.stdout.write(chunk)\n",
    "        sys.stdout.flush()"
   ]
  },
  {
   "cell_type": "code",
   "execution_count": null,
   "metadata": {},
   "outputs": [],
   "source": []
  }
 ],
 "metadata": {
  "kernelspec": {
   "display_name": "Python 3",
   "language": "python",
   "name": "python3"
  },
  "language_info": {
   "codemirror_mode": {
    "name": "ipython",
    "version": 3
   },
   "file_extension": ".py",
   "mimetype": "text/x-python",
   "name": "python",
   "nbconvert_exporter": "python",
   "pygments_lexer": "ipython3",
   "version": "3.11.6"
  }
 },
 "nbformat": 4,
 "nbformat_minor": 2
}
