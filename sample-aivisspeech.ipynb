{
 "cells": [
  {
   "cell_type": "code",
   "execution_count": 1,
   "metadata": {},
   "outputs": [],
   "source": [
    "import json\n",
    "import requests\n",
    "from IPython.display import Audio"
   ]
  },
  {
   "cell_type": "code",
   "execution_count": 2,
   "metadata": {},
   "outputs": [],
   "source": [
    "endpoint = \"http://localhost:8080/api-aivisspeech\"\n",
    "text = \"少々お待ちください．ちょっと考えますね．うーんと．\" # 待機音声想定"
   ]
  },
  {
   "cell_type": "code",
   "execution_count": 3,
   "metadata": {},
   "outputs": [
    {
     "data": {
      "text/plain": [
       "<Response [200]>"
      ]
     },
     "execution_count": 3,
     "metadata": {},
     "output_type": "execute_result"
    }
   ],
   "source": [
    "# get style id\n",
    "endpoint_speakers = endpoint + \"/speakers\"\n",
    "res = requests.get(endpoint_speakers)\n",
    "speakers = json.loads(res.content)\n",
    "style_id = speakers[0][\"styles\"][3][\"id\"]\n",
    "\n",
    "res"
   ]
  },
  {
   "cell_type": "code",
   "execution_count": 4,
   "metadata": {},
   "outputs": [
    {
     "data": {
      "text/plain": [
       "[{'name': 'Anneli',\n",
       "  'speaker_uuid': 'e756b8e4-b606-4e15-99b1-3f9c6a1b2317',\n",
       "  'styles': [{'name': 'ノーマル', 'id': 888753760, 'type': 'talk'},\n",
       "   {'name': '通常', 'id': 888753761, 'type': 'talk'},\n",
       "   {'name': 'テンション高め', 'id': 888753762, 'type': 'talk'},\n",
       "   {'name': '落ち着き', 'id': 888753763, 'type': 'talk'},\n",
       "   {'name': '上機嫌', 'id': 888753764, 'type': 'talk'},\n",
       "   {'name': '怒り・悲しみ', 'id': 888753765, 'type': 'talk'}],\n",
       "  'version': '1.0.0',\n",
       "  'supported_features': {'permitted_synthesis_morphing': 'NOTHING'}}]"
      ]
     },
     "execution_count": 4,
     "metadata": {},
     "output_type": "execute_result"
    }
   ],
   "source": [
    "speakers"
   ]
  },
  {
   "cell_type": "code",
   "execution_count": 5,
   "metadata": {},
   "outputs": [
    {
     "data": {
      "text/plain": [
       "<Response [200]>"
      ]
     },
     "execution_count": 5,
     "metadata": {},
     "output_type": "execute_result"
    }
   ],
   "source": [
    "# get audio query\n",
    "endpoint_audioquery = endpoint + \"/audio_query\"\n",
    "params = {\"speaker\": style_id, \"text\": text}\n",
    "res = requests.post(endpoint_audioquery, params=params)\n",
    "audioquery_json = json.loads(res.content)\n",
    "\n",
    "res"
   ]
  },
  {
   "cell_type": "code",
   "execution_count": 6,
   "metadata": {},
   "outputs": [
    {
     "data": {
      "text/plain": [
       "<Response [200]>"
      ]
     },
     "execution_count": 6,
     "metadata": {},
     "output_type": "execute_result"
    }
   ],
   "source": [
    "# create audio data\n",
    "endpoint_synthesis = endpoint + \"/synthesis\"\n",
    "params = {\"speaker\": style_id}\n",
    "res = requests.post(endpoint_synthesis, params=params, json=audioquery_json)\n",
    "\n",
    "res"
   ]
  },
  {
   "cell_type": "code",
   "execution_count": 8,
   "metadata": {},
   "outputs": [],
   "source": [
    "# Audio(res.content)"
   ]
  },
  {
   "cell_type": "code",
   "execution_count": null,
   "metadata": {},
   "outputs": [],
   "source": []
  }
 ],
 "metadata": {
  "kernelspec": {
   "display_name": "Python 3",
   "language": "python",
   "name": "python3"
  },
  "language_info": {
   "codemirror_mode": {
    "name": "ipython",
    "version": 3
   },
   "file_extension": ".py",
   "mimetype": "text/x-python",
   "name": "python",
   "nbconvert_exporter": "python",
   "pygments_lexer": "ipython3",
   "version": "3.11.6"
  }
 },
 "nbformat": 4,
 "nbformat_minor": 2
}
